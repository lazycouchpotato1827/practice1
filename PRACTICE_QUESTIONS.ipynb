{
  "nbformat": 4,
  "nbformat_minor": 0,
  "metadata": {
    "colab": {
      "provenance": []
    },
    "kernelspec": {
      "name": "python3",
      "display_name": "Python 3"
    },
    "language_info": {
      "name": "python"
    }
  },
  "cells": [
    {
      "cell_type": "markdown",
      "source": [
        "**Random Game**\n",
        "1. Import random module.\n",
        "\n",
        "2. Generate a random number between 1 and 100.\n",
        "\n",
        "3. Initialize attempts to 0.\n",
        "\n",
        "4. Start an infinite loop:\n",
        "   a. Prompt user to guess the number.\n",
        "   b. Increment attempts by 1.\n",
        "   c. If user's guess is less than the random number:\n",
        "      i. Print \"Higher!\".\n",
        "   d. If user's guess is greater than the random number:\n",
        "      i. Print \"Lower!\".\n",
        "   e. If user's guess is equal to the random number:\n",
        "      i. Print \"Congratulations! You guessed the number in [attempts] attempts.\"\n",
        "      ii. Break the loop.\n",
        "\n",
        "5. End.\n",
        "\n"
      ],
      "metadata": {
        "id": "c32GN9dEjTop"
      }
    },
    {
      "cell_type": "code",
      "source": [
        "import random\n",
        "num=random.randint(1,10)\n",
        "attempts=0\n",
        "while True:\n",
        "  guess=int(input(\"Enter a number between 1 and 10: \"))\n",
        "  attempts+=1\n",
        "  if guess>num:\n",
        "    print(\"LOWER!!\")\n",
        "  elif guess<num:\n",
        "    print(\"HIGHER!!\")\n",
        "  elif guess == num:\n",
        "    print(\"You have guesssed the number correctly. It took you\",attempts,\"attempts\")\n",
        "    break"
      ],
      "metadata": {
        "colab": {
          "base_uri": "https://localhost:8080/"
        },
        "id": "w1UpHfK5jWMP",
        "outputId": "a0831968-4b49-4fce-8622-9d958f81eba3"
      },
      "execution_count": null,
      "outputs": [
        {
          "output_type": "stream",
          "name": "stdout",
          "text": [
            "Enter a number between 1 and 10: 5\n",
            "You have guesssed the number correctly. It took you 1 attempts\n"
          ]
        }
      ]
    },
    {
      "cell_type": "markdown",
      "source": [
        "**Alarm Clock**\n",
        "1. Import time module.\n",
        "\n",
        "2. Ask user to input alarm time in HH:MM:SS format.\n",
        "\n",
        "3. Start an infinite loop:\n",
        "   a. Get the current time in HH:MM:SS format.\n",
        "   b. If current time matches alarm time:\n",
        "      i. Print \"Wake up!\"\n",
        "      ii. Break the loop to stop the alarm.\n",
        "   c. Pause the loop for 1 second.\n",
        "\n",
        "4. End.\n"
      ],
      "metadata": {
        "id": "L2taVxDDjW8K"
      }
    },
    {
      "cell_type": "code",
      "source": [
        "import time\n",
        "alarm_time=input(\"Enter when to wake you in HH:MM:SS format:\")\n",
        "print(\"Alarm set for\",alarm_time,\".See you then...\")\n",
        "while True:\n",
        "  current_time=time.strftime(\"%H:%M:%S\")\n",
        "  if current_time==alarm_time:\n",
        "    print(\"Wake up!\")\n",
        "    break\n",
        "time.sleep(1)\n"
      ],
      "metadata": {
        "id": "B5IUrC4ejYrD"
      },
      "execution_count": null,
      "outputs": []
    },
    {
      "cell_type": "markdown",
      "source": [
        "**TO DO List App**\n",
        "1. Initialize an empty list called tasks.\n",
        "\n",
        "2. Start an infinite loop:\n",
        "   a. Display the menu:\n",
        "      1. Add a task\n",
        "      2. View tasks\n",
        "      3. Remove a task\n",
        "      4. Exit\n",
        "   b. Prompt the user to select an option.\n",
        "\n",
        "   c. If the user selects \"Add a task\":\n",
        "      i. Prompt the user to enter a new task.\n",
        "      ii. Add the task to the tasks list.\n",
        "\n",
        "   d. If the user selects \"View tasks\":\n",
        "      i. If the tasks list is empty, print \"No tasks available.\"\n",
        "      ii. Otherwise, display each task with its index number.\n",
        "\n",
        "   e. If the user selects \"Remove a task\":\n",
        "      i. If the tasks list is empty, print \"No tasks to remove.\"\n",
        "      ii. Otherwise, display each task with its index number.\n",
        "      iii. Prompt the user to enter the index number of the task to remove.\n",
        "      iv. Remove the task from the tasks list.\n",
        "\n",
        "   f. If the user selects \"Exit\":\n",
        "      i. Print \"Exiting...\" and break the loop.\n",
        "\n",
        "3. End.\n"
      ],
      "metadata": {
        "id": "1hKwDs2Pxl1y"
      }
    },
    {
      "cell_type": "code",
      "source": [
        "tasks=[]\n",
        "while True:\n",
        "  print(\"1.Add a task\")\n",
        "  print(\"2.View tasks\")\n",
        "  print(\"3.Remove a task\")\n",
        "  print(\"4.Exit\")\n",
        "  user_input=int(input(\"Enter index: \"))\n",
        "  if user_input==1:\n",
        "    task=input(\"Enter a task:\")\n",
        "    tasks.append(task)\n",
        "    print(\"Task added successfully\")\n",
        "  elif user_input==2:\n",
        "    if len(tasks)==0:\n",
        "      print(\"No tasks available\")\n",
        "    else:\n",
        "      print(tasks)\n",
        "  elif user_input==3:\n",
        "    if len(tasks)==0:\n",
        "      print(\"No tasks to remove\")\n",
        "  else:\n",
        "    print(\"Exiting.....\")\n",
        "    break\n",
        ""
      ],
      "metadata": {
        "id": "TtdosddsSJza"
      },
      "execution_count": null,
      "outputs": []
    },
    {
      "cell_type": "markdown",
      "source": [
        "**Rock Paper Scissor Game**\n",
        "1. Import the random module.\n",
        "\n",
        "2. Define a list of choices: [\"rock\", \"paper\", \"scissors\"].\n",
        "\n",
        "3. Start an infinite loop to allow multiple rounds:\n",
        "   a. Prompt the user to choose \"rock\", \"paper\", or \"scissors\".\n",
        "   b. Use random.choice() to select a choice for the computer.\n",
        "\n",
        "   c. Compare the user's choice with the computer's choice:\n",
        "      i. If both choices are the same, print \"It's a tie!\".\n",
        "      ii. If the user's choice is \"rock\" and the computer's choice is \"scissors\", or\n",
        "          the user's choice is \"scissors\" and the computer's choice is \"paper\", or\n",
        "          the user's choice is \"paper\" and the computer's choice is \"rock\":\n",
        "          - Print \"You win!\".\n",
        "      iii. Otherwise, print \"Computer wins!\".\n",
        "\n",
        "   d. Print both the user's and computer's choices.\n",
        "\n",
        "   e. Ask the user if they want to play again:\n",
        "      i. If yes, continue the loop.\n",
        "      ii. If no, print \"Thanks for playing!\" and break the loop.\n",
        "\n",
        "4. End.\n"
      ],
      "metadata": {
        "id": "hkFTlcX2x9is"
      }
    },
    {
      "cell_type": "code",
      "source": [
        "import random as r\n",
        "print(\"1. Rock\")\n",
        "print(\"2. Paper\")\n",
        "print(\"3. Scissor\")\n",
        "user_input=int(input(\"Enter your choice index: \"))\n",
        "while True:\n",
        "  a=['Rock','Paper','Scissor']\n",
        "  bot=r.choice(a)\n",
        "  if bot=='Rock' and user_input==2:\n",
        "    print(\"Your choice is\",user_input,\"and computers choice is\",bot)\n",
        "    print(\"You win..\")\n",
        "  elif bot=='Rock' and user_input==3:\n",
        "    print(\"Your choice is\",user_input,\"and computers choice is\",bot)\n",
        "    print(\"You lose..\")\n",
        "  elif bot=='Paper' and user_input==3:\n",
        "    print(\"Your choice is\",user_input,\"and computers choice is\",bot)\n",
        "    print(\"You win..\")\n",
        "  elif bot=='Paper' and user_input==1:\n",
        "    print(\"Your choice is\",user_input,\"and computers choice is\",bot)\n",
        "    print(\"You lose..\")\n",
        "  elif bot=='Scissor' and user_input==1:\n",
        "    print(\"Your choice is\",user_input,\"and computers choice is\",bot)\n",
        "    print(\"You lose..\")\n",
        "  elif bot=='Scissor' and user_input==2:\n",
        "    print(\"Your choice is\",user_input,\"and computers choice is\",bot)\n",
        "    print(\"You win..\")\n",
        "  break\n",
        ""
      ],
      "metadata": {
        "colab": {
          "base_uri": "https://localhost:8080/"
        },
        "id": "m9_hJ2HgyCzJ",
        "outputId": "56bdc138-0b5f-49a2-8fde-45f8d2828f64"
      },
      "execution_count": 13,
      "outputs": [
        {
          "output_type": "stream",
          "name": "stdout",
          "text": [
            "1. Rock\n",
            "2. Paper\n",
            "3. Scissor\n",
            "Enter your choice index: 2\n",
            "Your choice is 2 and computers choice is Rock\n",
            "You win..\n"
          ]
        }
      ]
    },
    {
      "cell_type": "markdown",
      "source": [],
      "metadata": {
        "id": "_txoTBbSxm9z"
      }
    }
  ]
}